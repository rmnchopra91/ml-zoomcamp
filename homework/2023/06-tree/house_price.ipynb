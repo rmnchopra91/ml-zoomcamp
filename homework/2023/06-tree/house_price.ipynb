{
 "cells": [
  {
   "cell_type": "code",
   "execution_count": 1,
   "metadata": {},
   "outputs": [],
   "source": [
    "import pandas as pd"
   ]
  },
  {
   "cell_type": "code",
   "execution_count": 2,
   "metadata": {},
   "outputs": [],
   "source": [
    "df = pd.read_csv(\"../../../data/2023w6.csv\")"
   ]
  },
  {
   "cell_type": "markdown",
   "metadata": {},
   "source": [
    "### Preparing the dataset \n",
    "\n",
    "For this homework, we only want to use a subset of data. This is the same subset we used in homework #2.\n",
    "But in contrast to homework #2, we are going to use all columns of the dataset.\n",
    "\n",
    "First, keep only the records where `ocean_proximity` is either `'<1H OCEAN'` or `'INLAND'`\n",
    "\n",
    "Preparation:\n",
    "\n",
    "* Fill missing values with zeros.\n",
    "* Apply the log transform to `median_house_value`.\n",
    "* Do train/validation/test split with 60%/20%/20% distribution. \n",
    "* Use the `train_test_split` function and set the `random_state` parameter to 1.\n",
    "* Use `DictVectorizer(sparse=True)` to turn the dataframes into matrices.\n"
   ]
  },
  {
   "cell_type": "code",
   "execution_count": 4,
   "metadata": {},
   "outputs": [
    {
     "data": {
      "text/plain": [
       "ocean_proximity\n",
       "<1H OCEAN     9136\n",
       "INLAND        6551\n",
       "NEAR OCEAN    2658\n",
       "NEAR BAY      2290\n",
       "ISLAND           5\n",
       "Name: count, dtype: int64"
      ]
     },
     "execution_count": 4,
     "metadata": {},
     "output_type": "execute_result"
    }
   ],
   "source": [
    "df['ocean_proximity'].value_counts()"
   ]
  },
  {
   "cell_type": "code",
   "execution_count": 7,
   "metadata": {},
   "outputs": [],
   "source": [
    "# Filter data based on condition\n",
    "df = df[(df[\"ocean_proximity\"] == '<1H OCEAN') | (df[\"ocean_proximity\"] == 'INLAND')]\n",
    "# alernate option\n",
    "# df = df[df['ocean_proximity'].isin(['<1H OCEAN', 'INLAND'])]"
   ]
  },
  {
   "cell_type": "code",
   "execution_count": 8,
   "metadata": {},
   "outputs": [
    {
     "data": {
      "text/plain": [
       "ocean_proximity\n",
       "<1H OCEAN    9136\n",
       "INLAND       6551\n",
       "Name: count, dtype: int64"
      ]
     },
     "execution_count": 8,
     "metadata": {},
     "output_type": "execute_result"
    }
   ],
   "source": [
    "df['ocean_proximity'].value_counts()"
   ]
  },
  {
   "cell_type": "code",
   "execution_count": 11,
   "metadata": {},
   "outputs": [
    {
     "data": {
      "text/plain": [
       "longitude               0\n",
       "latitude                0\n",
       "housing_median_age      0\n",
       "total_rooms             0\n",
       "total_bedrooms        157\n",
       "population              0\n",
       "households              0\n",
       "median_income           0\n",
       "median_house_value      0\n",
       "ocean_proximity         0\n",
       "dtype: int64"
      ]
     },
     "execution_count": 11,
     "metadata": {},
     "output_type": "execute_result"
    }
   ],
   "source": [
    "df.isnull().sum()"
   ]
  },
  {
   "cell_type": "code",
   "execution_count": 12,
   "metadata": {},
   "outputs": [],
   "source": [
    "df.fillna(value=0, inplace=True)"
   ]
  },
  {
   "cell_type": "code",
   "execution_count": 15,
   "metadata": {},
   "outputs": [
    {
     "data": {
      "text/plain": [
       "longitude             0\n",
       "latitude              0\n",
       "housing_median_age    0\n",
       "total_rooms           0\n",
       "total_bedrooms        0\n",
       "population            0\n",
       "households            0\n",
       "median_income         0\n",
       "median_house_value    0\n",
       "ocean_proximity       0\n",
       "dtype: int64"
      ]
     },
     "execution_count": 15,
     "metadata": {},
     "output_type": "execute_result"
    }
   ],
   "source": [
    "df.isnull().sum()"
   ]
  },
  {
   "cell_type": "code",
   "execution_count": 16,
   "metadata": {},
   "outputs": [],
   "source": [
    "import numpy as np\n",
    "df.loc[:, 'median_house_value'] = np.log1p(df['median_house_value'])"
   ]
  },
  {
   "cell_type": "code",
   "execution_count": 23,
   "metadata": {},
   "outputs": [],
   "source": [
    "from sklearn.model_selection import train_test_split\n",
    "\n",
    "def split_train_val_test_dataset(df):\n",
    "    df.fillna(value=0, inplace=True)\n",
    "    df_full_train, df_test = train_test_split(df, test_size=0.2, random_state=1)\n",
    "    df_train, df_val = train_test_split(df_full_train, test_size=0.25, random_state=1)\n",
    "    \n",
    "    df_train = df_train.reset_index(drop=True)\n",
    "    df_val = df_val.reset_index(drop=True)\n",
    "    df_test = df_test.reset_index(drop=True)\n",
    "    \n",
    "    y_train = df_train['median_house_value'].values\n",
    "    y_val = df_val['median_house_value'].values\n",
    "    y_test = df_test['median_house_value'].values\n",
    "    \n",
    "    del df_train['median_house_value']\n",
    "    del df_val['median_house_value']\n",
    "    del df_test['median_house_value']\n",
    "    return df_train, df_val, df_test, y_train, y_val, y_test"
   ]
  },
  {
   "cell_type": "code",
   "execution_count": 24,
   "metadata": {},
   "outputs": [],
   "source": [
    "df_train, df_val, df_test, y_train, y_val, y_test = split_train_val_test_dataset(df)"
   ]
  },
  {
   "cell_type": "code",
   "execution_count": 25,
   "metadata": {},
   "outputs": [],
   "source": [
    "from sklearn.feature_extraction import DictVectorizer\n",
    "\n",
    "def trun_train_dataframe_into_matrices(df):\n",
    "    dv = DictVectorizer(sparse=False)\n",
    "    df_dict = df.to_dict(orient='records')\n",
    "    X = dv.fit_transform(df_dict)\n",
    "    return dv, X"
   ]
  },
  {
   "cell_type": "code",
   "execution_count": 26,
   "metadata": {},
   "outputs": [],
   "source": [
    "def trun_val_dataframe_into_matrices(df, dv):\n",
    "    df_dict = df.to_dict(orient='records')\n",
    "    X = dv.transform(df_dict)\n",
    "    return X"
   ]
  },
  {
   "cell_type": "code",
   "execution_count": 27,
   "metadata": {},
   "outputs": [],
   "source": [
    "def trun_dataframe_into_matrices(df_train, df_val):\n",
    "    dv, X_train = trun_train_dataframe_into_matrices(df_train)\n",
    "    X_val = trun_val_dataframe_into_matrices(df_val, dv)\n",
    "    return X_train, X_val, dv"
   ]
  },
  {
   "cell_type": "code",
   "execution_count": 28,
   "metadata": {},
   "outputs": [],
   "source": [
    "X_train, X_val, dv = trun_dataframe_into_matrices(df_train, df_val)"
   ]
  },
  {
   "cell_type": "code",
   "execution_count": 29,
   "metadata": {},
   "outputs": [
    {
     "data": {
      "text/plain": [
       "array([  68.   ,   13.   ,   37.93 , -120.25 ,    3.375,    0.   ,\n",
       "          1.   ,  196.   ,   76.   ,  493.   ])"
      ]
     },
     "execution_count": 29,
     "metadata": {},
     "output_type": "execute_result"
    }
   ],
   "source": [
    "X_train[0]"
   ]
  },
  {
   "cell_type": "markdown",
   "metadata": {},
   "source": [
    "## Question 1\n",
    "\n",
    "Let's train a decision tree regressor to predict the `median_house_value` variable. \n",
    "\n",
    "* Train a model with `max_depth=1`.\n",
    "\n",
    "\n",
    "Which feature is used for splitting the data?\n",
    "\n",
    "* `ocean_proximity`\n",
    "* `total_rooms`\n",
    "* `latitude`\n",
    "* `population`"
   ]
  },
  {
   "cell_type": "code",
   "execution_count": 30,
   "metadata": {},
   "outputs": [],
   "source": [
    "from sklearn.tree import DecisionTreeRegressor, export_text"
   ]
  },
  {
   "cell_type": "code",
   "execution_count": 31,
   "metadata": {},
   "outputs": [],
   "source": [
    "def train_decision_tree_regressor(X, y):\n",
    "    dt = DecisionTreeRegressor(max_depth=1)\n",
    "    dt.fit(X, y)\n",
    "    return dt"
   ]
  },
  {
   "cell_type": "code",
   "execution_count": 32,
   "metadata": {},
   "outputs": [],
   "source": [
    "dt = train_decision_tree_regressor(X_train, y_train)"
   ]
  },
  {
   "cell_type": "code",
   "execution_count": 33,
   "metadata": {},
   "outputs": [
    {
     "name": "stdout",
     "output_type": "stream",
     "text": [
      "|--- ocean_proximity=<1H OCEAN <= 0.50\n",
      "|   |--- value: [11.61]\n",
      "|--- ocean_proximity=<1H OCEAN >  0.50\n",
      "|   |--- value: [12.30]\n",
      "\n"
     ]
    }
   ],
   "source": [
    "print(export_text(dt, feature_names=list(dv.get_feature_names_out())))"
   ]
  },
  {
   "cell_type": "code",
   "execution_count": 34,
   "metadata": {},
   "outputs": [
    {
     "data": {
      "text/plain": [
       "['households',\n",
       " 'housing_median_age',\n",
       " 'latitude',\n",
       " 'longitude',\n",
       " 'median_income',\n",
       " 'ocean_proximity=<1H OCEAN',\n",
       " 'ocean_proximity=INLAND',\n",
       " 'population',\n",
       " 'total_bedrooms',\n",
       " 'total_rooms']"
      ]
     },
     "execution_count": 34,
     "metadata": {},
     "output_type": "execute_result"
    }
   ],
   "source": [
    "list(dv.get_feature_names_out())"
   ]
  },
  {
   "cell_type": "markdown",
   "metadata": {},
   "source": [
    " `Answer ocean_proximity`"
   ]
  },
  {
   "cell_type": "markdown",
   "metadata": {},
   "source": [
    "## Question 2\n",
    "\n",
    "Train a random forest model with these parameters:\n",
    "\n",
    "* `n_estimators=10`\n",
    "* `random_state=1`\n",
    "* `n_jobs=-1` (optional - to make training faster)\n",
    "\n",
    "\n",
    "What's the RMSE of this model on validation?\n",
    "\n",
    "* 0.045\n",
    "* 0.245\n",
    "* 0.545\n",
    "* 0.845\n"
   ]
  },
  {
   "cell_type": "code",
   "execution_count": 35,
   "metadata": {},
   "outputs": [],
   "source": [
    "from sklearn.ensemble import RandomForestRegressor\n",
    "def train_random_forest_regressor(X, y, **kargs):\n",
    "    rfr = RandomForestRegressor(n_estimators = kargs['n_estimators'], \n",
    "                                random_state = kargs['random_state'], \n",
    "                                n_jobs = kargs['n_jobs'])\n",
    "    rfr.fit(X, y)\n",
    "    return rfr"
   ]
  },
  {
   "cell_type": "code",
   "execution_count": 36,
   "metadata": {},
   "outputs": [],
   "source": [
    "rfr = train_random_forest_regressor(X_train, y_train, n_estimators=10, random_state=1, n_jobs=-1)"
   ]
  },
  {
   "cell_type": "code",
   "execution_count": 37,
   "metadata": {},
   "outputs": [],
   "source": [
    "from sklearn.metrics import mean_squared_error\n",
    "\n",
    "def rmse(y, y_pred):\n",
    "    mse = mean_squared_error(y, y_pred)\n",
    "    return round(np.sqrt(mse), 3)"
   ]
  },
  {
   "cell_type": "code",
   "execution_count": 38,
   "metadata": {},
   "outputs": [],
   "source": [
    "y_pred = rfr.predict(X_val)"
   ]
  },
  {
   "cell_type": "code",
   "execution_count": 39,
   "metadata": {},
   "outputs": [
    {
     "data": {
      "text/plain": [
       "0.245"
      ]
     },
     "execution_count": 39,
     "metadata": {},
     "output_type": "execute_result"
    }
   ],
   "source": [
    "rmse(y_val, y_pred)"
   ]
  },
  {
   "cell_type": "markdown",
   "metadata": {},
   "source": [
    "`Answer 0.245`"
   ]
  },
  {
   "cell_type": "markdown",
   "metadata": {},
   "source": [
    "## Question 3\n",
    "\n",
    "Now let's experiment with the `n_estimators` parameter\n",
    "\n",
    "* Try different values of this parameter from 10 to 200 with step 10.\n",
    "* Set `random_state` to `1`.\n",
    "* Evaluate the model on the validation dataset.\n",
    "\n",
    "\n",
    "After which value of `n_estimators` does RMSE stop improving?\n",
    "Consider 3 decimal places for retrieving the answer.\n",
    "\n",
    "- 10\n",
    "- 25\n",
    "- 50\n",
    "- 160"
   ]
  },
  {
   "cell_type": "code",
   "execution_count": 40,
   "metadata": {},
   "outputs": [],
   "source": [
    "def random_forest_regressor_evaluation():\n",
    "    scores = []\n",
    "    for estimator in range(10, 201, 10):\n",
    "        rfr = train_random_forest_regressor(X_train, y_train, \n",
    "                                            n_estimators=estimator, \n",
    "                                            random_state=1, \n",
    "                                            n_jobs=-1)\n",
    "        y_pred = rfr.predict(X_val)\n",
    "        rmse_value = rmse(y_val, y_pred)\n",
    "        scores.append((estimator, rmse_value))\n",
    "    return scores"
   ]
  },
  {
   "cell_type": "code",
   "execution_count": 41,
   "metadata": {},
   "outputs": [],
   "source": [
    "scores = random_forest_regressor_evaluation()"
   ]
  },
  {
   "cell_type": "code",
   "execution_count": 42,
   "metadata": {},
   "outputs": [
    {
     "data": {
      "text/plain": [
       "[(20, 0.238),\n",
       " (30, 0.236),\n",
       " (40, 0.235),\n",
       " (50, 0.235),\n",
       " (60, 0.234),\n",
       " (70, 0.234),\n",
       " (80, 0.234),\n",
       " (90, 0.234),\n",
       " (100, 0.234)]"
      ]
     },
     "execution_count": 42,
     "metadata": {},
     "output_type": "execute_result"
    }
   ],
   "source": [
    "scores[1:10]"
   ]
  },
  {
   "cell_type": "code",
   "execution_count": 43,
   "metadata": {},
   "outputs": [],
   "source": [
    "df_scores = pd.DataFrame(scores, columns=['n_estimators', 'rmse'])"
   ]
  },
  {
   "cell_type": "code",
   "execution_count": 44,
   "metadata": {},
   "outputs": [
    {
     "data": {
      "text/html": [
       "<div>\n",
       "<style scoped>\n",
       "    .dataframe tbody tr th:only-of-type {\n",
       "        vertical-align: middle;\n",
       "    }\n",
       "\n",
       "    .dataframe tbody tr th {\n",
       "        vertical-align: top;\n",
       "    }\n",
       "\n",
       "    .dataframe thead th {\n",
       "        text-align: right;\n",
       "    }\n",
       "</style>\n",
       "<table border=\"1\" class=\"dataframe\">\n",
       "  <thead>\n",
       "    <tr style=\"text-align: right;\">\n",
       "      <th></th>\n",
       "      <th>n_estimators</th>\n",
       "      <th>rmse</th>\n",
       "    </tr>\n",
       "  </thead>\n",
       "  <tbody>\n",
       "    <tr>\n",
       "      <th>1</th>\n",
       "      <td>20</td>\n",
       "      <td>0.238</td>\n",
       "    </tr>\n",
       "    <tr>\n",
       "      <th>2</th>\n",
       "      <td>30</td>\n",
       "      <td>0.236</td>\n",
       "    </tr>\n",
       "    <tr>\n",
       "      <th>3</th>\n",
       "      <td>40</td>\n",
       "      <td>0.235</td>\n",
       "    </tr>\n",
       "    <tr>\n",
       "      <th>4</th>\n",
       "      <td>50</td>\n",
       "      <td>0.235</td>\n",
       "    </tr>\n",
       "    <tr>\n",
       "      <th>5</th>\n",
       "      <td>60</td>\n",
       "      <td>0.234</td>\n",
       "    </tr>\n",
       "    <tr>\n",
       "      <th>6</th>\n",
       "      <td>70</td>\n",
       "      <td>0.234</td>\n",
       "    </tr>\n",
       "    <tr>\n",
       "      <th>7</th>\n",
       "      <td>80</td>\n",
       "      <td>0.234</td>\n",
       "    </tr>\n",
       "    <tr>\n",
       "      <th>8</th>\n",
       "      <td>90</td>\n",
       "      <td>0.234</td>\n",
       "    </tr>\n",
       "    <tr>\n",
       "      <th>9</th>\n",
       "      <td>100</td>\n",
       "      <td>0.234</td>\n",
       "    </tr>\n",
       "  </tbody>\n",
       "</table>\n",
       "</div>"
      ],
      "text/plain": [
       "   n_estimators   rmse\n",
       "1            20  0.238\n",
       "2            30  0.236\n",
       "3            40  0.235\n",
       "4            50  0.235\n",
       "5            60  0.234\n",
       "6            70  0.234\n",
       "7            80  0.234\n",
       "8            90  0.234\n",
       "9           100  0.234"
      ]
     },
     "execution_count": 44,
     "metadata": {},
     "output_type": "execute_result"
    }
   ],
   "source": [
    "df_scores[1:10]"
   ]
  },
  {
   "cell_type": "code",
   "execution_count": 45,
   "metadata": {},
   "outputs": [
    {
     "data": {
      "text/plain": [
       "[<matplotlib.lines.Line2D at 0x1ed393ee750>]"
      ]
     },
     "execution_count": 45,
     "metadata": {},
     "output_type": "execute_result"
    },
    {
     "data": {
      "image/png": "[encoded data removed]",
      "text/plain": [
       "<Figure size 640x480 with 1 Axes>"
      ]
     },
     "metadata": {},
     "output_type": "display_data"
    }
   ],
   "source": [
    "from matplotlib import pyplot as plt \n",
    "plt.plot(df_scores.n_estimators, df_scores.rmse)"
   ]
  },
  {
   "cell_type": "markdown",
   "metadata": {},
   "source": [
    "`Answer 160`"
   ]
  },
  {
   "cell_type": "markdown",
   "metadata": {},
   "source": [
    "## Question 4\n",
    "\n",
    "Let's select the best `max_depth`:\n",
    "\n",
    "* Try different values of `max_depth`: `[10, 15, 20, 25]`\n",
    "* For each of these values,\n",
    "  * try different values of `n_estimators` from 10 till 200 (with step 10)\n",
    "  * calculate the mean RMSE \n",
    "* Fix the random seed: `random_state=1`\n",
    "\n",
    "\n",
    "What's the best `max_depth`, using the mean RMSE?\n",
    "\n",
    "* 10\n",
    "* 15\n",
    "* 20\n",
    "* 25\n"
   ]
  },
  {
   "cell_type": "code",
   "execution_count": 46,
   "metadata": {},
   "outputs": [],
   "source": [
    "def train_random_forest_regressor(X, y, **kwargs):\n",
    "    n_estimators = kwargs.get('n_estimators', 100)  # Default value is 100 if not provided\n",
    "    random_state = kwargs.get('random_state', None)  # Default value is None if not provided\n",
    "    n_jobs = kwargs.get('n_jobs', 1)  # Default value is 1 if not provided\n",
    "    max_depth = kwargs.get('max_depth', None)  # Default value is None if not provided\n",
    "\n",
    "\n",
    "    rfr = RandomForestRegressor(n_estimators = n_estimators, \n",
    "                                random_state = random_state, \n",
    "                                n_jobs = n_jobs,\n",
    "                                max_depth = max_depth)\n",
    "    rfr.fit(X, y)\n",
    "    return rfr"
   ]
  },
  {
   "cell_type": "code",
   "execution_count": 47,
   "metadata": {},
   "outputs": [],
   "source": [
    "def random_forest_regressor_evaluation():\n",
    "    scores = []\n",
    "    for max_depth in [10, 15, 20, 25]:\n",
    "        for estimator in range(10, 201, 10):\n",
    "            rfr = train_random_forest_regressor(X_train, y_train, \n",
    "                                                n_estimators=estimator, \n",
    "                                                random_state=1, \n",
    "                                                n_jobs=-1,\n",
    "                                                max_depth=max_depth)\n",
    "            y_pred = rfr.predict(X_val)\n",
    "            rmse_value = rmse(y_val, y_pred)\n",
    "            scores.append((max_depth, estimator, rmse_value))\n",
    "    return scores"
   ]
  },
  {
   "cell_type": "code",
   "execution_count": 48,
   "metadata": {},
   "outputs": [],
   "source": [
    "scores = random_forest_regressor_evaluation()"
   ]
  },
  {
   "cell_type": "code",
   "execution_count": 49,
   "metadata": {},
   "outputs": [],
   "source": [
    "columns = ['max_depth', 'estimator', 'acc']\n",
    "df_scores = pd.DataFrame(scores, columns=columns)"
   ]
  },
  {
   "cell_type": "code",
   "execution_count": 50,
   "metadata": {},
   "outputs": [
    {
     "data": {
      "text/html": [
       "<div>\n",
       "<style scoped>\n",
       "    .dataframe tbody tr th:only-of-type {\n",
       "        vertical-align: middle;\n",
       "    }\n",
       "\n",
       "    .dataframe tbody tr th {\n",
       "        vertical-align: top;\n",
       "    }\n",
       "\n",
       "    .dataframe thead tr th {\n",
       "        text-align: left;\n",
       "    }\n",
       "\n",
       "    .dataframe thead tr:last-of-type th {\n",
       "        text-align: right;\n",
       "    }\n",
       "</style>\n",
       "<table border=\"1\" class=\"dataframe\">\n",
       "  <thead>\n",
       "    <tr>\n",
       "      <th></th>\n",
       "      <th colspan=\"4\" halign=\"left\">acc</th>\n",
       "    </tr>\n",
       "    <tr>\n",
       "      <th>max_depth</th>\n",
       "      <th>10</th>\n",
       "      <th>15</th>\n",
       "      <th>20</th>\n",
       "      <th>25</th>\n",
       "    </tr>\n",
       "    <tr>\n",
       "      <th>estimator</th>\n",
       "      <th></th>\n",
       "      <th></th>\n",
       "      <th></th>\n",
       "      <th></th>\n",
       "    </tr>\n",
       "  </thead>\n",
       "  <tbody>\n",
       "    <tr>\n",
       "      <th>20</th>\n",
       "      <td>0.247</td>\n",
       "      <td>0.239</td>\n",
       "      <td>0.238</td>\n",
       "      <td>0.238</td>\n",
       "    </tr>\n",
       "    <tr>\n",
       "      <th>30</th>\n",
       "      <td>0.246</td>\n",
       "      <td>0.237</td>\n",
       "      <td>0.236</td>\n",
       "      <td>0.236</td>\n",
       "    </tr>\n",
       "    <tr>\n",
       "      <th>40</th>\n",
       "      <td>0.245</td>\n",
       "      <td>0.236</td>\n",
       "      <td>0.235</td>\n",
       "      <td>0.234</td>\n",
       "    </tr>\n",
       "    <tr>\n",
       "      <th>50</th>\n",
       "      <td>0.246</td>\n",
       "      <td>0.236</td>\n",
       "      <td>0.235</td>\n",
       "      <td>0.234</td>\n",
       "    </tr>\n",
       "    <tr>\n",
       "      <th>60</th>\n",
       "      <td>0.246</td>\n",
       "      <td>0.236</td>\n",
       "      <td>0.235</td>\n",
       "      <td>0.234</td>\n",
       "    </tr>\n",
       "    <tr>\n",
       "      <th>70</th>\n",
       "      <td>0.245</td>\n",
       "      <td>0.235</td>\n",
       "      <td>0.235</td>\n",
       "      <td>0.234</td>\n",
       "    </tr>\n",
       "    <tr>\n",
       "      <th>80</th>\n",
       "      <td>0.246</td>\n",
       "      <td>0.236</td>\n",
       "      <td>0.235</td>\n",
       "      <td>0.234</td>\n",
       "    </tr>\n",
       "    <tr>\n",
       "      <th>90</th>\n",
       "      <td>0.246</td>\n",
       "      <td>0.235</td>\n",
       "      <td>0.235</td>\n",
       "      <td>0.234</td>\n",
       "    </tr>\n",
       "    <tr>\n",
       "      <th>100</th>\n",
       "      <td>0.245</td>\n",
       "      <td>0.235</td>\n",
       "      <td>0.234</td>\n",
       "      <td>0.234</td>\n",
       "    </tr>\n",
       "  </tbody>\n",
       "</table>\n",
       "</div>"
      ],
      "text/plain": [
       "             acc                     \n",
       "max_depth     10     15     20     25\n",
       "estimator                            \n",
       "20         0.247  0.239  0.238  0.238\n",
       "30         0.246  0.237  0.236  0.236\n",
       "40         0.245  0.236  0.235  0.234\n",
       "50         0.246  0.236  0.235  0.234\n",
       "60         0.246  0.236  0.235  0.234\n",
       "70         0.245  0.235  0.235  0.234\n",
       "80         0.246  0.236  0.235  0.234\n",
       "90         0.246  0.235  0.235  0.234\n",
       "100        0.245  0.235  0.234  0.234"
      ]
     },
     "execution_count": 50,
     "metadata": {},
     "output_type": "execute_result"
    }
   ],
   "source": [
    "df_scores_pivot = df_scores.pivot(index='estimator', columns=['max_depth'], values=['acc'])\n",
    "df_scores_pivot[1:10]"
   ]
  },
  {
   "cell_type": "code",
   "execution_count": 51,
   "metadata": {},
   "outputs": [
    {
     "data": {
      "text/plain": [
       "<Axes: xlabel='None-max_depth', ylabel='estimator'>"
      ]
     },
     "execution_count": 51,
     "metadata": {},
     "output_type": "execute_result"
    },
    {
     "data": {
      "image/png": "[encoded data removed]",
      "text/plain": [
       "<Figure size 640x480 with 2 Axes>"
      ]
     },
     "metadata": {},
     "output_type": "display_data"
    }
   ],
   "source": [
    "import seaborn as sns\n",
    "sns.heatmap(df_scores_pivot, annot=True, fmt=\".5f\")"
   ]
  },
  {
   "cell_type": "markdown",
   "metadata": {},
   "source": [
    "`Answer max_depth = 25`"
   ]
  },
  {
   "cell_type": "markdown",
   "metadata": {},
   "source": [
    "# Question 5\n",
    "\n",
    "We can extract feature importance information from tree-based models. \n",
    "\n",
    "At each step of the decision tree learning algorithm, it finds the best split. \n",
    "When doing it, we can calculate \"gain\" - the reduction in impurity before and after the split. \n",
    "This gain is quite useful in understanding what are the important features for tree-based models.\n",
    "\n",
    "In Scikit-Learn, tree-based models contain this information in the\n",
    "[`feature_importances_`](https://scikit-learn.org/stable/modules/generated/sklearn.ensemble.RandomForestRegressor.html#sklearn.ensemble.RandomForestRegressor.feature_importances_)\n",
    "field. \n",
    "\n",
    "For this homework question, we'll find the most important feature:\n",
    "\n",
    "* Train the model with these parameters:\n",
    "  * `n_estimators=10`,\n",
    "  * `max_depth=20`,\n",
    "  * `random_state=1`,\n",
    "  * `n_jobs=-1` (optional)\n",
    "* Get the feature importance information from this model\n",
    "\n",
    "\n",
    "What's the most important feature (among these 4)? \n",
    "\n",
    "* `total_rooms`\n",
    "* `median_income`\n",
    "* `total_bedrooms`\n",
    "* `longitude`"
   ]
  },
  {
   "cell_type": "code",
   "execution_count": 52,
   "metadata": {},
   "outputs": [],
   "source": [
    "rfr = train_random_forest_regressor(X_train, y_train, \n",
    "                                    n_estimators=10, \n",
    "                                    random_state=1, \n",
    "                                    n_jobs=-1,\n",
    "                                    max_depth=20)"
   ]
  },
  {
   "cell_type": "code",
   "execution_count": 53,
   "metadata": {},
   "outputs": [],
   "source": [
    "feature_importance = rfr.feature_importances_"
   ]
  },
  {
   "cell_type": "code",
   "execution_count": 54,
   "metadata": {},
   "outputs": [],
   "source": [
    "feature_list = list(dv.get_feature_names_out())"
   ]
  },
  {
   "cell_type": "code",
   "execution_count": 55,
   "metadata": {},
   "outputs": [
    {
     "name": "stdout",
     "output_type": "stream",
     "text": [
      "households: 0.015043139111271224\n",
      "housing_median_age: 0.030063286803328055\n",
      "latitude: 0.10266505351248023\n",
      "longitude: 0.085853413889788\n",
      "median_income: 0.33548579019301683\n",
      "ocean_proximity=<1H OCEAN: 0.21881985433078302\n",
      "ocean_proximity=INLAND: 0.14745955406828146\n",
      "population: 0.028114716700962206\n",
      "total_bedrooms: 0.015433664373277032\n",
      "total_rooms: 0.021061527016812055\n"
     ]
    }
   ],
   "source": [
    "for feature, importance in zip(feature_list, feature_importance):\n",
    "    print(f\"{feature}: {importance}\")"
   ]
  },
  {
   "cell_type": "markdown",
   "metadata": {},
   "source": [
    "`Answer median_income: 0.3355070433470429`"
   ]
  },
  {
   "cell_type": "markdown",
   "metadata": {},
   "source": [
    "## Question 6\n",
    "\n",
    "Now let's train an XGBoost model! For this question, we'll tune the `eta` parameter:\n",
    "\n",
    "* Install XGBoost\n",
    "* Create DMatrix for train and validation\n",
    "* Create a watchlist\n",
    "* Train a model with these parameters for 100 rounds:\n",
    "\n",
    "```\n",
    "xgb_params = {\n",
    "    'eta': 0.3, \n",
    "    'max_depth': 6,\n",
    "    'min_child_weight': 1,\n",
    "    \n",
    "    'objective': 'reg:squarederror',\n",
    "    'nthread': 8,\n",
    "    \n",
    "    'seed': 1,\n",
    "    'verbosity': 1,\n",
    "}\n",
    "```\n",
    "\n",
    "Now change `eta` from `0.3` to `0.1`.\n",
    "\n",
    "Which eta leads to the best RMSE score on the validation dataset?\n",
    "\n",
    "* 0.3\n",
    "* 0.1\n",
    "* Both give equal value"
   ]
  },
  {
   "cell_type": "markdown",
   "metadata": {},
   "source": [
    "`# Install XGBoost`"
   ]
  },
  {
   "cell_type": "markdown",
   "metadata": {},
   "source": []
  },
  {
   "cell_type": "code",
   "execution_count": 56,
   "metadata": {},
   "outputs": [
    {
     "name": "stdout",
     "output_type": "stream",
     "text": [
      "Defaulting to user installation because normal site-packages is not writeable\n",
      "Collecting xgboost\n",
      "  Obtaining dependency information for xgboost from https://files.pythonhosted.org/packages/32/10/4689bda37403f7dd029d550c4446e0097c2f33b8ae877b235e76d5c49bc2/xgboost-2.0.0-py3-none-win_amd64.whl.metadata\n",
      "  Downloading xgboost-2.0.0-py3-none-win_amd64.whl.metadata (2.0 kB)\n",
      "Requirement already satisfied: numpy in c:\\users\\lenovo\\appdata\\roaming\\python\\python312\\site-packages (from xgboost) (1.26.1)\n",
      "Requirement already satisfied: scipy in c:\\users\\lenovo\\appdata\\roaming\\python\\python312\\site-packages (from xgboost) (1.11.3)\n",
      "Downloading xgboost-2.0.0-py3-none-win_amd64.whl (99.7 MB)\n",
      "   ---------------------------------------- 0.0/99.7 MB ? eta -:--:--\n",
      "   ---------------------------------------- 0.0/99.7 MB ? eta -:--:--\n",
      "   ---------------------------------------- 0.0/99.7 MB 435.7 kB/s eta 0:03:49\n",
      "   ---------------------------------------- 0.1/99.7 MB 1.2 MB/s eta 0:01:24\n",
      "   ---------------------------------------- 1.2/99.7 MB 8.2 MB/s eta 0:00:13\n",
      "   - -------------------------------------- 2.5/99.7 MB 13.4 MB/s eta 0:00:08\n",
      "   - -------------------------------------- 3.7/99.7 MB 16.8 MB/s eta 0:00:06\n",
      "   - -------------------------------------- 4.7/99.7 MB 18.8 MB/s eta 0:00:06\n",
      "   -- ------------------------------------- 6.3/99.7 MB 21.3 MB/s eta 0:00:05\n",
      "   --- ------------------------------------ 7.9/99.7 MB 23.0 MB/s eta 0:00:05\n",
      "   --- ------------------------------------ 9.3/99.7 MB 23.8 MB/s eta 0:00:04\n",
      "   ---- ----------------------------------- 10.6/99.7 MB 31.2 MB/s eta 0:00:03\n",
      "   ---- ----------------------------------- 11.2/99.7 MB 29.7 MB/s eta 0:00:03\n",
      "   ---- ----------------------------------- 11.6/99.7 MB 27.3 MB/s eta 0:00:04\n",
      "   ---- ----------------------------------- 12.0/99.7 MB 26.2 MB/s eta 0:00:04\n",
      "   ---- ----------------------------------- 12.2/99.7 MB 24.2 MB/s eta 0:00:04\n",
      "   ---- ----------------------------------- 12.3/99.7 MB 21.9 MB/s eta 0:00:05\n",
      "   ---- ----------------------------------- 12.4/99.7 MB 20.5 MB/s eta 0:00:05\n",
      "   ---- ----------------------------------- 12.5/99.7 MB 19.3 MB/s eta 0:00:05\n",
      "   ----- ---------------------------------- 12.5/99.7 MB 17.7 MB/s eta 0:00:05\n",
      "   ----- ---------------------------------- 12.5/99.7 MB 17.3 MB/s eta 0:00:06\n",
      "   ----- ---------------------------------- 12.5/99.7 MB 16.0 MB/s eta 0:00:06\n",
      "   ----- ---------------------------------- 12.6/99.7 MB 15.2 MB/s eta 0:00:06\n",
      "   ----- ---------------------------------- 12.6/99.7 MB 13.6 MB/s eta 0:00:07\n",
      "   ----- ---------------------------------- 12.6/99.7 MB 13.4 MB/s eta 0:00:07\n",
      "   ----- ---------------------------------- 12.7/99.7 MB 12.6 MB/s eta 0:00:07\n",
      "   ----- ---------------------------------- 12.7/99.7 MB 11.7 MB/s eta 0:00:08\n",
      "   ----- ---------------------------------- 12.7/99.7 MB 11.1 MB/s eta 0:00:08\n",
      "   ----- ---------------------------------- 12.8/99.7 MB 10.7 MB/s eta 0:00:09\n",
      "   ----- ---------------------------------- 12.8/99.7 MB 10.2 MB/s eta 0:00:09\n",
      "   ----- ---------------------------------- 12.9/99.7 MB 9.6 MB/s eta 0:00:10\n",
      "   ----- ---------------------------------- 13.0/99.7 MB 9.4 MB/s eta 0:00:10\n",
      "   ----- ---------------------------------- 13.0/99.7 MB 8.8 MB/s eta 0:00:10\n",
      "   ----- ---------------------------------- 13.1/99.7 MB 8.6 MB/s eta 0:00:11\n",
      "   ----- ---------------------------------- 13.2/99.7 MB 8.3 MB/s eta 0:00:11\n",
      "   ----- ---------------------------------- 13.3/99.7 MB 8.1 MB/s eta 0:00:11\n",
      "   ----- ---------------------------------- 13.4/99.7 MB 7.8 MB/s eta 0:00:12\n",
      "   ----- ---------------------------------- 13.5/99.7 MB 7.4 MB/s eta 0:00:12\n",
      "   ----- ---------------------------------- 13.6/99.7 MB 7.3 MB/s eta 0:00:12\n",
      "   ----- ---------------------------------- 13.6/99.7 MB 7.0 MB/s eta 0:00:13\n",
      "   ----- ---------------------------------- 13.7/99.7 MB 6.8 MB/s eta 0:00:13\n",
      "   ----- ---------------------------------- 13.8/99.7 MB 6.7 MB/s eta 0:00:13\n",
      "   ----- ---------------------------------- 13.9/99.7 MB 6.5 MB/s eta 0:00:14\n",
      "   ----- ---------------------------------- 14.0/99.7 MB 6.3 MB/s eta 0:00:14\n",
      "   ----- ---------------------------------- 14.2/99.7 MB 6.1 MB/s eta 0:00:14\n",
      "   ----- ---------------------------------- 14.3/99.7 MB 6.0 MB/s eta 0:00:15\n",
      "   ----- ---------------------------------- 14.4/99.7 MB 5.8 MB/s eta 0:00:15\n",
      "   ----- ---------------------------------- 14.6/99.7 MB 5.7 MB/s eta 0:00:15\n",
      "   ----- ---------------------------------- 14.7/99.7 MB 5.5 MB/s eta 0:00:16\n",
      "   ----- ---------------------------------- 14.9/99.7 MB 5.5 MB/s eta 0:00:16\n",
      "   ------ --------------------------------- 15.1/99.7 MB 5.4 MB/s eta 0:00:16\n",
      "   ------ --------------------------------- 15.2/99.7 MB 5.3 MB/s eta 0:00:16\n",
      "   ------ --------------------------------- 15.2/99.7 MB 5.1 MB/s eta 0:00:17\n",
      "   ------ --------------------------------- 15.4/99.7 MB 5.0 MB/s eta 0:00:17\n",
      "   ------ --------------------------------- 15.6/99.7 MB 4.9 MB/s eta 0:00:18\n",
      "   ------ --------------------------------- 15.9/99.7 MB 4.9 MB/s eta 0:00:18\n",
      "   ------ --------------------------------- 16.2/99.7 MB 4.8 MB/s eta 0:00:18\n",
      "   ------ --------------------------------- 16.6/99.7 MB 4.7 MB/s eta 0:00:18\n",
      "   ------ --------------------------------- 17.1/99.7 MB 4.6 MB/s eta 0:00:18\n",
      "   ------- -------------------------------- 17.5/99.7 MB 4.6 MB/s eta 0:00:18\n",
      "   ------- -------------------------------- 17.9/99.7 MB 4.5 MB/s eta 0:00:19\n",
      "   ------- -------------------------------- 18.4/99.7 MB 4.5 MB/s eta 0:00:19\n",
      "   ------- -------------------------------- 18.9/99.7 MB 4.5 MB/s eta 0:00:19\n",
      "   ------- -------------------------------- 19.4/99.7 MB 4.3 MB/s eta 0:00:19\n",
      "   -------- ------------------------------- 20.1/99.7 MB 4.3 MB/s eta 0:00:19\n",
      "   -------- ------------------------------- 20.5/99.7 MB 4.2 MB/s eta 0:00:19\n",
      "   -------- ------------------------------- 21.2/99.7 MB 4.2 MB/s eta 0:00:19\n",
      "   -------- ------------------------------- 21.7/99.7 MB 4.2 MB/s eta 0:00:19\n",
      "   -------- ------------------------------- 22.2/99.7 MB 4.2 MB/s eta 0:00:19\n",
      "   --------- ------------------------------ 22.6/99.7 MB 4.4 MB/s eta 0:00:18\n",
      "   --------- ------------------------------ 23.2/99.7 MB 5.6 MB/s eta 0:00:14\n",
      "   --------- ------------------------------ 23.7/99.7 MB 6.4 MB/s eta 0:00:12\n",
      "   --------- ------------------------------ 24.2/99.7 MB 7.6 MB/s eta 0:00:10\n",
      "   --------- ------------------------------ 24.8/99.7 MB 8.6 MB/s eta 0:00:09\n",
      "   ---------- ----------------------------- 25.3/99.7 MB 9.2 MB/s eta 0:00:09\n",
      "   ---------- ----------------------------- 25.9/99.7 MB 10.7 MB/s eta 0:00:07\n",
      "   ---------- ----------------------------- 26.6/99.7 MB 11.3 MB/s eta 0:00:07\n",
      "   ---------- ----------------------------- 27.2/99.7 MB 11.7 MB/s eta 0:00:07\n",
      "   ----------- ---------------------------- 27.9/99.7 MB 11.9 MB/s eta 0:00:07\n",
      "   ----------- ---------------------------- 28.7/99.7 MB 12.1 MB/s eta 0:00:06\n",
      "   ----------- ---------------------------- 29.3/99.7 MB 11.9 MB/s eta 0:00:06\n",
      "   ------------ --------------------------- 30.1/99.7 MB 12.6 MB/s eta 0:00:06\n",
      "   ------------ --------------------------- 30.9/99.7 MB 12.8 MB/s eta 0:00:06\n",
      "   ------------ --------------------------- 31.7/99.7 MB 13.1 MB/s eta 0:00:06\n",
      "   ------------ --------------------------- 32.2/99.7 MB 13.4 MB/s eta 0:00:06\n",
      "   ------------- -------------------------- 33.0/99.7 MB 13.6 MB/s eta 0:00:05\n",
      "   ------------- -------------------------- 33.9/99.7 MB 14.5 MB/s eta 0:00:05\n",
      "   ------------- -------------------------- 34.8/99.7 MB 14.9 MB/s eta 0:00:05\n",
      "   -------------- ------------------------- 35.7/99.7 MB 15.6 MB/s eta 0:00:05\n",
      "   -------------- ------------------------- 36.5/99.7 MB 16.0 MB/s eta 0:00:04\n",
      "   --------------- ------------------------ 37.5/99.7 MB 16.8 MB/s eta 0:00:04\n",
      "   --------------- ------------------------ 38.5/99.7 MB 16.8 MB/s eta 0:00:04\n",
      "   --------------- ------------------------ 39.3/99.7 MB 17.7 MB/s eta 0:00:04\n",
      "   ---------------- ----------------------- 40.3/99.7 MB 17.7 MB/s eta 0:00:04\n",
      "   ---------------- ----------------------- 41.2/99.7 MB 17.7 MB/s eta 0:00:04\n",
      "   ---------------- ----------------------- 42.1/99.7 MB 18.2 MB/s eta 0:00:04\n",
      "   ----------------- ---------------------- 43.0/99.7 MB 18.7 MB/s eta 0:00:04\n",
      "   ----------------- ---------------------- 44.1/99.7 MB 19.3 MB/s eta 0:00:03\n",
      "   ----------------- ---------------------- 44.9/99.7 MB 19.3 MB/s eta 0:00:03\n",
      "   ------------------ --------------------- 45.5/99.7 MB 18.7 MB/s eta 0:00:03\n",
      "   ------------------ --------------------- 46.0/99.7 MB 18.2 MB/s eta 0:00:03\n",
      "   ------------------ --------------------- 46.4/99.7 MB 17.3 MB/s eta 0:00:04\n",
      "   ------------------ --------------------- 46.9/99.7 MB 16.8 MB/s eta 0:00:04\n",
      "   ------------------ --------------------- 47.4/99.7 MB 16.0 MB/s eta 0:00:04\n",
      "   ------------------- -------------------- 47.8/99.7 MB 15.2 MB/s eta 0:00:04\n",
      "   ------------------- -------------------- 48.1/99.7 MB 14.9 MB/s eta 0:00:04\n",
      "   ------------------- -------------------- 48.5/99.7 MB 14.2 MB/s eta 0:00:04\n",
      "   ------------------- -------------------- 48.7/99.7 MB 13.6 MB/s eta 0:00:04\n",
      "   ------------------- -------------------- 49.1/99.7 MB 13.1 MB/s eta 0:00:04\n",
      "   ------------------- -------------------- 49.5/99.7 MB 12.6 MB/s eta 0:00:04\n",
      "   -------------------- ------------------- 50.0/99.7 MB 12.4 MB/s eta 0:00:05\n",
      "   -------------------- ------------------- 50.6/99.7 MB 12.1 MB/s eta 0:00:05\n",
      "   -------------------- ------------------- 51.0/99.7 MB 11.7 MB/s eta 0:00:05\n",
      "   -------------------- ------------------- 51.4/99.7 MB 11.3 MB/s eta 0:00:05\n",
      "   -------------------- ------------------- 52.0/99.7 MB 10.9 MB/s eta 0:00:05\n",
      "   --------------------- ------------------ 52.6/99.7 MB 10.4 MB/s eta 0:00:05\n",
      "   --------------------- ------------------ 53.2/99.7 MB 10.4 MB/s eta 0:00:05\n",
      "   --------------------- ------------------ 53.7/99.7 MB 10.2 MB/s eta 0:00:05\n",
      "   --------------------- ------------------ 54.2/99.7 MB 9.9 MB/s eta 0:00:05\n",
      "   --------------------- ------------------ 54.8/99.7 MB 9.9 MB/s eta 0:00:05\n",
      "   ---------------------- ----------------- 55.5/99.7 MB 9.8 MB/s eta 0:00:05\n",
      "   ---------------------- ----------------- 56.1/99.7 MB 9.9 MB/s eta 0:00:05\n",
      "   ---------------------- ----------------- 56.9/99.7 MB 10.2 MB/s eta 0:00:05\n",
      "   ----------------------- ---------------- 57.6/99.7 MB 10.6 MB/s eta 0:00:04\n",
      "   ----------------------- ---------------- 58.2/99.7 MB 10.9 MB/s eta 0:00:04\n",
      "   ----------------------- ---------------- 59.0/99.7 MB 11.9 MB/s eta 0:00:04\n",
      "   ----------------------- ---------------- 59.6/99.7 MB 11.9 MB/s eta 0:00:04\n",
      "   ------------------------ --------------- 60.2/99.7 MB 12.1 MB/s eta 0:00:04\n",
      "   ------------------------ --------------- 60.8/99.7 MB 12.4 MB/s eta 0:00:04\n",
      "   ------------------------ --------------- 61.5/99.7 MB 13.1 MB/s eta 0:00:03\n",
      "   ------------------------ --------------- 62.2/99.7 MB 13.1 MB/s eta 0:00:03\n",
      "   ------------------------- -------------- 62.9/99.7 MB 13.9 MB/s eta 0:00:03\n",
      "   ------------------------- -------------- 63.5/99.7 MB 13.6 MB/s eta 0:00:03\n",
      "   ------------------------- -------------- 64.1/99.7 MB 13.9 MB/s eta 0:00:03\n",
      "   ------------------------- -------------- 64.7/99.7 MB 13.9 MB/s eta 0:00:03\n",
      "   -------------------------- ------------- 65.1/99.7 MB 13.4 MB/s eta 0:00:03\n",
      "   -------------------------- ------------- 65.5/99.7 MB 13.1 MB/s eta 0:00:03\n",
      "   -------------------------- ------------- 65.7/99.7 MB 13.1 MB/s eta 0:00:03\n",
      "   -------------------------- ------------- 66.1/99.7 MB 12.3 MB/s eta 0:00:03\n",
      "   -------------------------- ------------- 66.8/99.7 MB 12.4 MB/s eta 0:00:03\n",
      "   --------------------------- ------------ 67.5/99.7 MB 12.4 MB/s eta 0:00:03\n",
      "   --------------------------- ------------ 68.2/99.7 MB 12.4 MB/s eta 0:00:03\n",
      "   --------------------------- ------------ 68.6/99.7 MB 12.1 MB/s eta 0:00:03\n",
      "   --------------------------- ------------ 69.1/99.7 MB 11.9 MB/s eta 0:00:03\n",
      "   --------------------------- ------------ 69.6/99.7 MB 11.7 MB/s eta 0:00:03\n",
      "   ---------------------------- ----------- 69.9/99.7 MB 11.5 MB/s eta 0:00:03\n",
      "   ---------------------------- ----------- 70.1/99.7 MB 11.1 MB/s eta 0:00:03\n",
      "   ---------------------------- ----------- 70.3/99.7 MB 10.7 MB/s eta 0:00:03\n",
      "   ---------------------------- ----------- 70.5/99.7 MB 10.2 MB/s eta 0:00:03\n",
      "   ---------------------------- ----------- 70.8/99.7 MB 9.9 MB/s eta 0:00:03\n",
      "   ---------------------------- ----------- 71.0/99.7 MB 9.9 MB/s eta 0:00:03\n",
      "   ---------------------------- ----------- 71.4/99.7 MB 9.5 MB/s eta 0:00:03\n",
      "   ---------------------------- ----------- 71.6/99.7 MB 9.4 MB/s eta 0:00:04\n",
      "   ---------------------------- ----------- 71.8/99.7 MB 9.2 MB/s eta 0:00:04\n",
      "   ---------------------------- ----------- 72.1/99.7 MB 8.7 MB/s eta 0:00:04\n",
      "   ----------------------------- ---------- 72.3/99.7 MB 8.7 MB/s eta 0:00:04\n",
      "   ----------------------------- ---------- 72.7/99.7 MB 8.4 MB/s eta 0:00:04\n",
      "   ----------------------------- ---------- 73.0/99.7 MB 8.2 MB/s eta 0:00:04\n",
      "   ----------------------------- ---------- 73.4/99.7 MB 8.2 MB/s eta 0:00:04\n",
      "   ----------------------------- ---------- 73.9/99.7 MB 8.0 MB/s eta 0:00:04\n",
      "   ----------------------------- ---------- 74.4/99.7 MB 8.0 MB/s eta 0:00:04\n",
      "   ------------------------------ --------- 74.8/99.7 MB 7.9 MB/s eta 0:00:04\n",
      "   ------------------------------ --------- 75.2/99.7 MB 7.9 MB/s eta 0:00:04\n",
      "   ------------------------------ --------- 75.8/99.7 MB 8.0 MB/s eta 0:00:04\n",
      "   ------------------------------ --------- 76.3/99.7 MB 8.3 MB/s eta 0:00:03\n",
      "   ------------------------------ --------- 76.8/99.7 MB 8.2 MB/s eta 0:00:03\n",
      "   ------------------------------- -------- 77.4/99.7 MB 8.1 MB/s eta 0:00:03\n",
      "   ------------------------------- -------- 77.8/99.7 MB 8.1 MB/s eta 0:00:03\n",
      "   ------------------------------- -------- 78.3/99.7 MB 8.0 MB/s eta 0:00:03\n",
      "   ------------------------------- -------- 78.8/99.7 MB 8.0 MB/s eta 0:00:03\n",
      "   ------------------------------- -------- 79.1/99.7 MB 7.9 MB/s eta 0:00:03\n",
      "   ------------------------------- -------- 79.6/99.7 MB 7.9 MB/s eta 0:00:03\n",
      "   -------------------------------- ------- 80.2/99.7 MB 8.3 MB/s eta 0:00:03\n",
      "   -------------------------------- ------- 80.8/99.7 MB 8.7 MB/s eta 0:00:03\n",
      "   -------------------------------- ------- 81.4/99.7 MB 9.1 MB/s eta 0:00:03\n",
      "   -------------------------------- ------- 82.0/99.7 MB 9.4 MB/s eta 0:00:02\n",
      "   --------------------------------- ------ 82.4/99.7 MB 10.1 MB/s eta 0:00:02\n",
      "   --------------------------------- ------ 83.0/99.7 MB 10.4 MB/s eta 0:00:02\n",
      "   --------------------------------- ------ 83.8/99.7 MB 11.1 MB/s eta 0:00:02\n",
      "   --------------------------------- ------ 84.5/99.7 MB 11.3 MB/s eta 0:00:02\n",
      "   ---------------------------------- ----- 85.1/99.7 MB 11.3 MB/s eta 0:00:02\n",
      "   ---------------------------------- ----- 85.5/99.7 MB 11.5 MB/s eta 0:00:02\n",
      "   ---------------------------------- ----- 86.0/99.7 MB 11.3 MB/s eta 0:00:02\n",
      "   ---------------------------------- ----- 86.4/99.7 MB 11.1 MB/s eta 0:00:02\n",
      "   ---------------------------------- ----- 86.9/99.7 MB 11.1 MB/s eta 0:00:02\n",
      "   ----------------------------------- ---- 87.4/99.7 MB 11.1 MB/s eta 0:00:02\n",
      "   ----------------------------------- ---- 87.9/99.7 MB 11.3 MB/s eta 0:00:02\n",
      "   ----------------------------------- ---- 88.6/99.7 MB 11.3 MB/s eta 0:00:01\n",
      "   ----------------------------------- ---- 89.1/99.7 MB 11.5 MB/s eta 0:00:01\n",
      "   ----------------------------------- ---- 89.5/99.7 MB 11.5 MB/s eta 0:00:01\n",
      "   ------------------------------------ --- 90.0/99.7 MB 11.5 MB/s eta 0:00:01\n",
      "   ------------------------------------ --- 90.5/99.7 MB 11.5 MB/s eta 0:00:01\n",
      "   ------------------------------------ --- 91.0/99.7 MB 11.3 MB/s eta 0:00:01\n",
      "   ------------------------------------ --- 91.6/99.7 MB 11.5 MB/s eta 0:00:01\n",
      "   ------------------------------------ --- 92.1/99.7 MB 11.3 MB/s eta 0:00:01\n",
      "   ------------------------------------- -- 92.7/99.7 MB 11.5 MB/s eta 0:00:01\n",
      "   ------------------------------------- -- 93.3/99.7 MB 11.5 MB/s eta 0:00:01\n",
      "   ------------------------------------- -- 94.0/99.7 MB 11.3 MB/s eta 0:00:01\n",
      "   ------------------------------------- -- 94.6/99.7 MB 11.1 MB/s eta 0:00:01\n",
      "   -------------------------------------- - 95.2/99.7 MB 11.3 MB/s eta 0:00:01\n",
      "   -------------------------------------- - 95.8/99.7 MB 11.5 MB/s eta 0:00:01\n",
      "   -------------------------------------- - 96.3/99.7 MB 11.5 MB/s eta 0:00:01\n",
      "   -------------------------------------- - 96.6/99.7 MB 11.5 MB/s eta 0:00:01\n",
      "   -------------------------------------- - 97.0/99.7 MB 11.3 MB/s eta 0:00:01\n",
      "   ---------------------------------------  97.4/99.7 MB 11.1 MB/s eta 0:00:01\n",
      "   ---------------------------------------  97.6/99.7 MB 10.7 MB/s eta 0:00:01\n",
      "   ---------------------------------------  97.8/99.7 MB 10.6 MB/s eta 0:00:01\n",
      "   ---------------------------------------  97.8/99.7 MB 10.2 MB/s eta 0:00:01\n",
      "   ---------------------------------------  97.9/99.7 MB 9.8 MB/s eta 0:00:01\n",
      "   ---------------------------------------  97.9/99.7 MB 9.4 MB/s eta 0:00:01\n",
      "   ---------------------------------------  97.9/99.7 MB 9.0 MB/s eta 0:00:01\n",
      "   ---------------------------------------  98.0/99.7 MB 8.6 MB/s eta 0:00:01\n",
      "   ---------------------------------------  98.0/99.7 MB 8.3 MB/s eta 0:00:01\n",
      "   ---------------------------------------  98.0/99.7 MB 7.9 MB/s eta 0:00:01\n",
      "   ---------------------------------------  98.1/99.7 MB 7.6 MB/s eta 0:00:01\n",
      "   ---------------------------------------  98.2/99.7 MB 7.4 MB/s eta 0:00:01\n",
      "   ---------------------------------------  98.2/99.7 MB 7.2 MB/s eta 0:00:01\n",
      "   ---------------------------------------  98.3/99.7 MB 7.1 MB/s eta 0:00:01\n",
      "   ---------------------------------------  98.4/99.7 MB 6.8 MB/s eta 0:00:01\n",
      "   ---------------------------------------  98.4/99.7 MB 6.6 MB/s eta 0:00:01\n",
      "   ---------------------------------------  98.5/99.7 MB 6.5 MB/s eta 0:00:01\n",
      "   ---------------------------------------  98.5/99.7 MB 6.2 MB/s eta 0:00:01\n",
      "   ---------------------------------------  98.6/99.7 MB 6.1 MB/s eta 0:00:01\n",
      "   ---------------------------------------  98.6/99.7 MB 6.0 MB/s eta 0:00:01\n",
      "   ---------------------------------------  98.7/99.7 MB 5.8 MB/s eta 0:00:01\n",
      "   ---------------------------------------  98.8/99.7 MB 5.7 MB/s eta 0:00:01\n",
      "   ---------------------------------------  99.0/99.7 MB 5.6 MB/s eta 0:00:01\n",
      "   ---------------------------------------  99.2/99.7 MB 5.5 MB/s eta 0:00:01\n",
      "   ---------------------------------------  99.5/99.7 MB 5.5 MB/s eta 0:00:01\n",
      "   ---------------------------------------  99.7/99.7 MB 5.5 MB/s eta 0:00:01\n",
      "   ---------------------------------------  99.7/99.7 MB 5.5 MB/s eta 0:00:01\n",
      "   ---------------------------------------  99.7/99.7 MB 5.5 MB/s eta 0:00:01\n",
      "   ---------------------------------------  99.7/99.7 MB 5.5 MB/s eta 0:00:01\n",
      "   ---------------------------------------- 99.7/99.7 MB 4.8 MB/s eta 0:00:00\n",
      "Installing collected packages: xgboost\n",
      "Successfully installed xgboost-2.0.0\n"
     ]
    },
    {
     "name": "stderr",
     "output_type": "stream",
     "text": [
      "\n",
      "[notice] A new release of pip is available: 23.2.1 -> 23.3\n",
      "[notice] To update, run: python.exe -m pip install --upgrade pip\n"
     ]
    }
   ],
   "source": [
    "!pip install xgboost"
   ]
  },
  {
   "cell_type": "code",
   "execution_count": 57,
   "metadata": {},
   "outputs": [
    {
     "data": {
      "text/plain": [
       "array(['households', 'housing_median_age', 'latitude', 'longitude',\n",
       "       'median_income', 'ocean_proximity=<1H OCEAN',\n",
       "       'ocean_proximity=INLAND', 'population', 'total_bedrooms',\n",
       "       'total_rooms'], dtype=object)"
      ]
     },
     "execution_count": 57,
     "metadata": {},
     "output_type": "execute_result"
    }
   ],
   "source": [
    "# Create Dmatrix for train and validation\n",
    "features = dv.get_feature_names_out()\n",
    "features"
   ]
  },
  {
   "cell_type": "code",
   "execution_count": 58,
   "metadata": {},
   "outputs": [],
   "source": [
    "features = ['households', 'housing_median_age', 'latitude', 'longitude',\n",
    "       'median_income', 'ocean_proximity_1H_OCEAN',\n",
    "       'ocean_proximity_INLAND', 'population', 'total_bedrooms',\n",
    "       'total_rooms']"
   ]
  },
  {
   "cell_type": "code",
   "execution_count": 59,
   "metadata": {},
   "outputs": [],
   "source": [
    "import xgboost as xgb\n",
    "dtrain = xgb.DMatrix(X_train, label=y_train, feature_names=features)\n",
    "dval = xgb.DMatrix(X_val, label=y_val, feature_names=features)"
   ]
  },
  {
   "cell_type": "code",
   "execution_count": 60,
   "metadata": {},
   "outputs": [
    {
     "name": "stdout",
     "output_type": "stream",
     "text": [
      "eta: 0.1, rmse : 0.232\n",
      "eta: 0.2, rmse : 0.23\n",
      "eta: 0.3, rmse : 0.229\n"
     ]
    }
   ],
   "source": [
    "for eta in range (1, 4, 1):\n",
    "    eta_value = round(eta * 0.1, 1)\n",
    "    xgb_params = {\n",
    "        'eta': eta_value, \n",
    "        'max_depth': 6,\n",
    "        'min_child_weight': 1,\n",
    "\n",
    "        'objective': 'reg:squarederror',\n",
    "        'nthread': 8,\n",
    "\n",
    "        'seed': 1,\n",
    "        'verbosity': 1,\n",
    "    }\n",
    "\n",
    "    model = xgb.train(xgb_params, dtrain, num_boost_round=100)\n",
    "    y_pred = model.predict(dval)\n",
    "    rmse_value = rmse(y_val, y_pred)\n",
    "    print(f\"eta: {eta_value}, rmse : {rmse_value}\")"
   ]
  },
  {
   "cell_type": "markdown",
   "metadata": {},
   "source": [
    "`Answer eta: 0.3, rmse : 0.229`"
   ]
  }
 ],
 "metadata": {
  "kernelspec": {
   "display_name": "Python 3",
   "language": "python",
   "name": "python3"
  },
  "language_info": {
   "codemirror_mode": {
    "name": "ipython",
    "version": 3
   },
   "file_extension": ".py",
   "mimetype": "text/x-python",
   "name": "python",
   "nbconvert_exporter": "python",
   "pygments_lexer": "ipython3",
   "version": "3.12.0"
  }
 },
 "nbformat": 4,
 "nbformat_minor": 2
}
